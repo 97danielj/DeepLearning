{
 "cells": [
  {
   "cell_type": "code",
   "execution_count": 7,
   "id": "f6f63be3",
   "metadata": {},
   "outputs": [],
   "source": [
    "from tensorflow.keras.layers import SimpleRNN, Dense\n",
    "from tensorflow.keras.models import Sequential\n",
    "\n",
    "model = Sequential()\n",
    "hidden_units = 32\n",
    "model.add(SimpleRNN(hidden_units))"
   ]
  },
  {
   "cell_type": "code",
   "execution_count": null,
   "id": "b5c0cc9c",
   "metadata": {},
   "outputs": [],
   "source": [
    "#추가 인자 사용시\n",
    "model.add(SimpleRNN(hidden_units), input_shape(timesteps,input_dim))\n",
    "\n",
    "#다른 표기\n",
    "model.add(SimpleRNN(hidden_units, input_length=M, input_dim=N))"
   ]
  },
  {
   "cell_type": "code",
   "execution_count": 8,
   "id": "0ab353a6",
   "metadata": {},
   "outputs": [],
   "source": [
    "import numpy as np"
   ]
  },
  {
   "cell_type": "code",
   "execution_count": 9,
   "id": "dbc8f6b3",
   "metadata": {},
   "outputs": [
    {
     "name": "stdout",
     "output_type": "stream",
     "text": [
      "0\n"
     ]
    },
    {
     "data": {
      "text/plain": [
       "()"
      ]
     },
     "execution_count": 9,
     "metadata": {},
     "output_type": "execute_result"
    }
   ],
   "source": [
    "d = np.array(5)\n",
    "print(d.ndim)\n",
    "d.shape\n"
   ]
  },
  {
   "cell_type": "code",
   "execution_count": 10,
   "id": "288633b1",
   "metadata": {},
   "outputs": [
    {
     "name": "stdout",
     "output_type": "stream",
     "text": [
      "텐서의 차원 : 2\n",
      "텐서의 크기(shape) : (3, 4)\n"
     ]
    }
   ],
   "source": [
    "# 3행 4열의 행렬\n",
    "d = np.array([[1, 2, 3, 4], [5, 6, 7, 8], [9, 10, 11, 12]])\n",
    "print('텐서의 차원 :',d.ndim)\n",
    "print('텐서의 크기(shape) :',d.shape)"
   ]
  },
  {
   "cell_type": "code",
   "execution_count": null,
   "id": "c29b5205",
   "metadata": {},
   "outputs": [],
   "source": [
    "}\"\""
   ]
  }
 ],
 "metadata": {
  "kernelspec": {
   "display_name": "Python 3 (ipykernel)",
   "language": "python",
   "name": "python3"
  },
  "language_info": {
   "codemirror_mode": {
    "name": "ipython",
    "version": 3
   },
   "file_extension": ".py",
   "mimetype": "text/x-python",
   "name": "python",
   "nbconvert_exporter": "python",
   "pygments_lexer": "ipython3",
   "version": "3.9.7"
  }
 },
 "nbformat": 4,
 "nbformat_minor": 5
}
