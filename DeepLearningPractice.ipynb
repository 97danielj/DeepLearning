{
 "cells": [
  {
   "cell_type": "code",
   "execution_count": 1,
   "id": "c09c7e39",
   "metadata": {},
   "outputs": [],
   "source": [
    "from tensorflow.keras.models import Sequential\n",
    "from tensorflow.keras.layers import Dense\n",
    "\n",
    "model = Sequential()\n",
    "\n",
    "# 3개의 입력과 2개의 출력. 전걀합층(FC)\n",
    "model.add(Dense(2, input_dim=3, activation='softmax'))\n"
   ]
  },
  {
   "cell_type": "code",
   "execution_count": 2,
   "id": "9fc16a09",
   "metadata": {},
   "outputs": [
    {
     "name": "stdout",
     "output_type": "stream",
     "text": [
      "Model: \"sequential\"\n",
      "_________________________________________________________________\n",
      "Layer (type)                 Output Shape              Param #   \n",
      "=================================================================\n",
      "dense (Dense)                (None, 2)                 8         \n",
      "=================================================================\n",
      "Total params: 8\n",
      "Trainable params: 8\n",
      "Non-trainable params: 0\n",
      "_________________________________________________________________\n"
     ]
    }
   ],
   "source": [
    "model.summary()"
   ]
  },
  {
   "cell_type": "code",
   "execution_count": 1,
   "id": "412665de",
   "metadata": {},
   "outputs": [],
   "source": [
    "import numpy as np\n",
    "from sklearn.metrics import mean_squared_error, r2_score, mean_absolute_error, mean_squared_log_error\n",
    "\n",
    "origin = np.array([1, 2, 3, 2, 3, 5, 4, 6, 5, 6, 7])\n",
    "pred = np.array([1, 1, 2, 2, 3, 4, 4, 5, 5, 7, 7])\n",
    "MAE = mean_absolute_error(origin,pred)\n",
    "MSE = mean_squared_error(origin,pred)\n",
    "RMSE = np.sqrt(MSE)\n",
    "MSLE = mean_squared_log_error(origin,pred)\n",
    "RMSLE = np.sqrt(mean_squared_log_error(origin,pred))\n",
    "R2 = r2_score(origin,pred)\n"
   ]
  },
  {
   "cell_type": "code",
   "execution_count": 2,
   "id": "a03cbaea",
   "metadata": {},
   "outputs": [
    {
     "name": "stdout",
     "output_type": "stream",
     "text": [
      "0.45454545454545453 0.45454545454545453 0.674199862463242 0.029272467607503516 0.1710919858073531 0.868421052631579\n"
     ]
    }
   ],
   "source": [
    "print(MAE,MSE,RMSE,MSLE,RMSLE,R2)"
   ]
  },
  {
   "cell_type": "code",
   "execution_count": null,
   "id": "7f9d8d4c",
   "metadata": {},
   "outputs": [],
   "source": []
  }
 ],
 "metadata": {
  "kernelspec": {
   "display_name": "Python 3 (ipykernel)",
   "language": "python",
   "name": "python3"
  },
  "language_info": {
   "codemirror_mode": {
    "name": "ipython",
    "version": 3
   },
   "file_extension": ".py",
   "mimetype": "text/x-python",
   "name": "python",
   "nbconvert_exporter": "python",
   "pygments_lexer": "ipython3",
   "version": "3.9.7"
  }
 },
 "nbformat": 4,
 "nbformat_minor": 5
}
