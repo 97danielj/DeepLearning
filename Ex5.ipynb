{
 "cells": [
  {
   "cell_type": "code",
   "execution_count": 1,
   "id": "f2ea095e",
   "metadata": {},
   "outputs": [],
   "source": [
    "from tensorflow import keras\n",
    "from sklearn.model_selection import train_test_split\n",
    "from keras.datasets.fashion_mnist import load_data\n",
    "(x_data,y_data),(t_x_data,t_y_data) = load_data()\n",
    "x_data=x_data.reshape(-1,28,28,1)/255.0\n",
    "t_x,tt_x,t_y,tt_y = train_test_split(x_data,y_data,test_size=0.2,random_state=42)"
   ]
  },
  {
   "cell_type": "code",
   "execution_count": 2,
   "id": "2edc9fa1",
   "metadata": {},
   "outputs": [],
   "source": [
    "m=keras.Sequential()\n",
    "m.add(keras.layers.Conv2D(32,kernel_size=3,activation='relu',padding='same'\n",
    "                          ,input_shape=(28,28,1)))\n",
    "m.add(keras.layers.MaxPooling2D(2))\n",
    "m.add(keras.layers.Conv2D(64,kernel_size=(3,3),activation='relu',padding='same'))\n",
    "m.add(keras.layers.MaxPooling2D(2))"
   ]
  },
  {
   "cell_type": "code",
   "execution_count": 3,
   "id": "4c08c35c",
   "metadata": {
    "scrolled": true
   },
   "outputs": [
    {
     "name": "stdout",
     "output_type": "stream",
     "text": [
      "Model: \"sequential\"\n",
      "_________________________________________________________________\n",
      " Layer (type)                Output Shape              Param #   \n",
      "=================================================================\n",
      " conv2d (Conv2D)             (None, 28, 28, 32)        320       \n",
      "                                                                 \n",
      " max_pooling2d (MaxPooling2D  (None, 14, 14, 32)       0         \n",
      " )                                                               \n",
      "                                                                 \n",
      " conv2d_1 (Conv2D)           (None, 14, 14, 64)        18496     \n",
      "                                                                 \n",
      " max_pooling2d_1 (MaxPooling  (None, 7, 7, 64)         0         \n",
      " 2D)                                                             \n",
      "                                                                 \n",
      " flatten (Flatten)           (None, 3136)              0         \n",
      "                                                                 \n",
      " dense (Dense)               (None, 100)               313700    \n",
      "                                                                 \n",
      " dropout (Dropout)           (None, 100)               0         \n",
      "                                                                 \n",
      " dense_1 (Dense)             (None, 10)                1010      \n",
      "                                                                 \n",
      "=================================================================\n",
      "Total params: 333,526\n",
      "Trainable params: 333,526\n",
      "Non-trainable params: 0\n",
      "_________________________________________________________________\n"
     ]
    }
   ],
   "source": [
    "m.add(keras.layers.Flatten())\n",
    "m.add(keras.layers.Dense(100,activation='relu'))\n",
    "m.add(keras.layers.Dropout(0.4))\n",
    "m.add(keras.layers.Dense(10,activation='softmax'))\n",
    "m.summary()"
   ]
  },
  {
   "cell_type": "code",
   "execution_count": 4,
   "id": "8557351d",
   "metadata": {
    "scrolled": false
   },
   "outputs": [
    {
     "data": {
      "image/png": "[encoded data removed]",
      "text/plain": [
       "<IPython.core.display.Image object>"
      ]
     },
     "execution_count": 4,
     "metadata": {},
     "output_type": "execute_result"
    }
   ],
   "source": [
    "keras.utils.plot_model(m)"
   ]
  },
  {
   "cell_type": "code",
   "execution_count": 6,
   "id": "eb93ad6c",
   "metadata": {},
   "outputs": [],
   "source": [
    "m.compile(optimizer='adam', loss='sparse_categorical_crossentropy', \n",
    "              metrics='accuracy')"
   ]
  },
  {
   "cell_type": "code",
   "execution_count": 7,
   "id": "1cc39e74",
   "metadata": {},
   "outputs": [],
   "source": [
    "m= keras.models.load_model('best-cnn-model.h5')"
   ]
  },
  {
   "cell_type": "code",
   "execution_count": 8,
   "id": "9853fc61",
   "metadata": {},
   "outputs": [
    {
     "data": {
      "text/plain": [
       "[<keras.layers.convolutional.Conv2D at 0x1611ddd6760>,\n",
       " <keras.layers.pooling.MaxPooling2D at 0x1611dd96fa0>,\n",
       " <keras.layers.convolutional.Conv2D at 0x1611de03280>,\n",
       " <keras.layers.pooling.MaxPooling2D at 0x1611de03b20>,\n",
       " <keras.layers.core.flatten.Flatten at 0x1611e1b1ca0>,\n",
       " <keras.layers.core.dense.Dense at 0x1611e1b6880>,\n",
       " <keras.layers.core.dropout.Dropout at 0x1611e1b6ee0>,\n",
       " <keras.layers.core.dense.Dense at 0x1611e1bb160>]"
      ]
     },
     "execution_count": 8,
     "metadata": {},
     "output_type": "execute_result"
    }
   ],
   "source": [
    "m.layers"
   ]
  },
  {
   "cell_type": "code",
   "execution_count": 11,
   "id": "39be6977",
   "metadata": {},
   "outputs": [
    {
     "data": {
      "text/plain": [
       "(TensorShape([3, 3, 1, 32]), TensorShape([32]))"
      ]
     },
     "execution_count": 11,
     "metadata": {},
     "output_type": "execute_result"
    }
   ],
   "source": [
    "conv=m.layers[0]\n",
    "conv.weights[0].shape, conv.weights[1].shape"
   ]
  },
  {
   "cell_type": "code",
   "execution_count": 13,
   "id": "5b03045f",
   "metadata": {},
   "outputs": [
    {
     "data": {
      "text/plain": [
       "(-0.025312617, 0.25047907)"
      ]
     },
     "execution_count": 13,
     "metadata": {},
     "output_type": "execute_result"
    }
   ],
   "source": [
    "w = conv.weights[0].numpy()\n",
    "w.mean(), w.std()"
   ]
  },
  {
   "cell_type": "code",
   "execution_count": 14,
   "id": "8280162c",
   "metadata": {},
   "outputs": [
    {
     "data": {
      "text/plain": [
       "<KerasTensor: shape=(None, 28, 28, 1) dtype=float32 (created by layer 'conv2d_input')>"
      ]
     },
     "execution_count": 14,
     "metadata": {},
     "output_type": "execute_result"
    }
   ],
   "source": [
    "m.input"
   ]
  },
  {
   "cell_type": "code",
   "execution_count": 15,
   "id": "87cd2367",
   "metadata": {},
   "outputs": [],
   "source": [
    "cov_act1=keras.Model(m.input, m.layers[0].output)"
   ]
  },
  {
   "cell_type": "code",
   "execution_count": 16,
   "id": "187aa26a",
   "metadata": {},
   "outputs": [],
   "source": [
    "(x_data,y_data),(t_x_data,t_y_data) = keras.datasets.fashion_mnist.load_data()\n",
    "x_data=x_data.reshape(-1,28,28,1)/255.0"
   ]
  },
  {
   "cell_type": "code",
   "execution_count": 18,
   "id": "46409286",
   "metadata": {},
   "outputs": [
    {
     "data": {
      "text/plain": [
       "<matplotlib.image.AxesImage at 0x161212861f0>"
      ]
     },
     "execution_count": 18,
     "metadata": {},
     "output_type": "execute_result"
    },
    {
     "data": {
      "image/png": "[encoded data removed]",
      "text/plain": [
       "<Figure size 432x288 with 1 Axes>"
      ]
     },
     "metadata": {
      "needs_background": "light"
     },
     "output_type": "display_data"
    }
   ],
   "source": [
    "import matplotlib.pyplot as plt\n",
    "plt.imshow(x_data[0],cmap='gray_r')"
   ]
  },
  {
   "cell_type": "code",
   "execution_count": 19,
   "id": "e9d4eb6e",
   "metadata": {},
   "outputs": [
    {
     "ename": "NameError",
     "evalue": "name 'cov_cat1' is not defined",
     "output_type": "error",
     "traceback": [
      "\u001b[1;31m---------------------------------------------------------------------------\u001b[0m",
      "\u001b[1;31mNameError\u001b[0m                                 Traceback (most recent call last)",
      "\u001b[1;32m~\\AppData\\Local\\Temp/ipykernel_9676/4128185115.py\u001b[0m in \u001b[0;36m<module>\u001b[1;34m\u001b[0m\n\u001b[1;32m----> 1\u001b[1;33m \u001b[0mf_map\u001b[0m \u001b[1;33m=\u001b[0m \u001b[0mcov_cat1\u001b[0m\u001b[1;33m.\u001b[0m\u001b[0mpredict\u001b[0m\u001b[1;33m(\u001b[0m\u001b[0min_data\u001b[0m\u001b[1;33m[\u001b[0m\u001b[1;36m0\u001b[0m\u001b[1;33m:\u001b[0m\u001b[1;36m1\u001b[0m\u001b[1;33m]\u001b[0m\u001b[1;33m)\u001b[0m\u001b[1;33m\u001b[0m\u001b[1;33m\u001b[0m\u001b[0m\n\u001b[0m\u001b[0;32m      2\u001b[0m \u001b[0mf_map\u001b[0m\u001b[1;33m\u001b[0m\u001b[1;33m\u001b[0m\u001b[0m\n",
      "\u001b[1;31mNameError\u001b[0m: name 'cov_cat1' is not defined"
     ]
    }
   ],
   "source": [
    "f_map = cov_cat1.predict(in_data[0:1])\n",
    "f_map"
   ]
  },
  {
   "cell_type": "code",
   "execution_count": null,
   "id": "f891f5ef",
   "metadata": {},
   "outputs": [],
   "source": []
  }
 ],
 "metadata": {
  "kernelspec": {
   "display_name": "Python 3 (ipykernel)",
   "language": "python",
   "name": "python3"
  },
  "language_info": {
   "codemirror_mode": {
    "name": "ipython",
    "version": 3
   },
   "file_extension": ".py",
   "mimetype": "text/x-python",
   "name": "python",
   "nbconvert_exporter": "python",
   "pygments_lexer": "ipython3",
   "version": "3.9.7"
  }
 },
 "nbformat": 4,
 "nbformat_minor": 5
}
