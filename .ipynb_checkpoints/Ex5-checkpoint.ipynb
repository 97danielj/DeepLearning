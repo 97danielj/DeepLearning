{
 "cells": [
  {
   "cell_type": "code",
   "execution_count": null,
   "id": "f2ea095e",
   "metadata": {},
   "outputs": [],
   "source": [
    "from tensorflow import keras\n",
    "from sklearn.model_selection import train_test_split\n",
    "from keras.datasets.fashion_mnist import load_data\n",
    "(x_data,y_data),(t_x_data,t_y_data) = load_data()\n",
    "x_data=x_data.reshape(-1,28,28,1)/255.0\n",
    "t_x,tt_x,t_y,tt_y = train_test_split(x_data,y_data,test_size=0.2,random_state=42)"
   ]
  },
  {
   "cell_type": "code",
   "execution_count": null,
   "id": "2edc9fa1",
   "metadata": {},
   "outputs": [],
   "source": [
    "m=keras.Sequential()\n",
    "m.add(keras.layers.Conv2D(32,kernel_size=3,activation='relu',padding='same'\n",
    "                          ,input_shape=(28,28,1)))\n",
    "m.add(keras.layers.MaxPooling2D(2))\n",
    "m.add(keras.layers.Conv2D(64,kernel_size=(3,3),activation='relu',padding='same'))\n",
    "m.add(keras.layers.MaxPooling2D(2))"
   ]
  },
  {
   "cell_type": "code",
   "execution_count": null,
   "id": "4c08c35c",
   "metadata": {
    "scrolled": true
   },
   "outputs": [],
   "source": [
    "m.add(keras.layers.Flatten())\n",
    "m.add(keras.layers.Dense(100,activation='relu'))\n",
    "m.add(keras.layers.Dropout(0.4))\n",
    "m.add(keras.layers.Dense(10,activation='softmax'))\n",
    "m.summary()"
   ]
  },
  {
   "cell_type": "code",
   "execution_count": null,
   "id": "8557351d",
   "metadata": {
    "scrolled": false
   },
   "outputs": [],
   "source": [
    "keras.utils.plot_model(m)"
   ]
  },
  {
   "cell_type": "code",
   "execution_count": null,
   "id": "eb93ad6c",
   "metadata": {},
   "outputs": [],
   "source": [
    "model.compile(optimizer='adam', loss='sparse_categorical_crossentropy', \n",
    "              metrics='accuracy')"
   ]
  },
  {
   "cell_type": "code",
   "execution_count": null,
   "id": "b6829443",
   "metadata": {},
   "outputs": [],
   "source": [
    "m= keras.models.load_model('best-cnn-model.h5')"
   ]
  },
  {
   "cell_type": "code",
   "execution_count": null,
   "id": "e24512b5",
   "metadata": {},
   "outputs": [],
   "source": []
  }
 ],
 "metadata": {
  "kernelspec": {
   "display_name": "Python 3 (ipykernel)",
   "language": "python",
   "name": "python3"
  },
  "language_info": {
   "codemirror_mode": {
    "name": "ipython",
    "version": 3
   },
   "file_extension": ".py",
   "mimetype": "text/x-python",
   "name": "python",
   "nbconvert_exporter": "python",
   "pygments_lexer": "ipython3",
   "version": "3.9.7"
  }
 },
 "nbformat": 4,
 "nbformat_minor": 5
}
